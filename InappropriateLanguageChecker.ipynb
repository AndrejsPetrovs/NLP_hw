{
  "nbformat": 4,
  "nbformat_minor": 0,
  "metadata": {
    "colab": {
      "provenance": [],
      "authorship_tag": "ABX9TyPa2VlMDUCOQzvBB/+iLldY",
      "include_colab_link": true
    },
    "kernelspec": {
      "name": "python3",
      "display_name": "Python 3"
    },
    "language_info": {
      "name": "python"
    }
  },
  "cells": [
    {
      "cell_type": "markdown",
      "metadata": {
        "id": "view-in-github",
        "colab_type": "text"
      },
      "source": [
        "<a href=\"https://colab.research.google.com/github/AndrejsPetrovs/NLP_hw/blob/main/InappropriateLanguageChecker.ipynb\" target=\"_parent\"><img src=\"https://colab.research.google.com/assets/colab-badge.svg\" alt=\"Open In Colab\"/></a>"
      ]
    },
    {
      "cell_type": "code",
      "execution_count": 1,
      "metadata": {
        "colab": {
          "base_uri": "https://localhost:8080/"
        },
        "id": "SRZC4e8_X8My",
        "outputId": "5de89fa6-d57e-41ad-92ac-9730c22096ef"
      },
      "outputs": [
        {
          "output_type": "stream",
          "name": "stdout",
          "text": [
            "--2024-06-19 16:43:10--  https://raw.githubusercontent.com/AndrejsPetrovs/NLP_hw/main/en2.txt\n",
            "Resolving raw.githubusercontent.com (raw.githubusercontent.com)... 185.199.108.133, 185.199.109.133, 185.199.110.133, ...\n",
            "Connecting to raw.githubusercontent.com (raw.githubusercontent.com)|185.199.108.133|:443... connected.\n",
            "HTTP request sent, awaiting response... 200 OK\n",
            "Length: 12454 (12K) [text/plain]\n",
            "Saving to: ‘en2.txt’\n",
            "\n",
            "\ren2.txt               0%[                    ]       0  --.-KB/s               \ren2.txt             100%[===================>]  12.16K  --.-KB/s    in 0s      \n",
            "\n",
            "2024-06-19 16:43:10 (69.6 MB/s) - ‘en2.txt’ saved [12454/12454]\n",
            "\n"
          ]
        }
      ],
      "source": [
        "!wget https://raw.githubusercontent.com/AndrejsPetrovs/NLP_hw/main/en2.txt"
      ]
    },
    {
      "cell_type": "code",
      "source": [
        "!pip install nltk"
      ],
      "metadata": {
        "colab": {
          "base_uri": "https://localhost:8080/"
        },
        "id": "k8lH6fgUYF3d",
        "outputId": "5f23a106-9740-490a-aac1-892a65525ad1"
      },
      "execution_count": 7,
      "outputs": [
        {
          "output_type": "stream",
          "name": "stdout",
          "text": [
            "Requirement already satisfied: nltk in /usr/local/lib/python3.10/dist-packages (3.8.1)\n",
            "Requirement already satisfied: click in /usr/local/lib/python3.10/dist-packages (from nltk) (8.1.7)\n",
            "Requirement already satisfied: joblib in /usr/local/lib/python3.10/dist-packages (from nltk) (1.4.2)\n",
            "Requirement already satisfied: regex>=2021.8.3 in /usr/local/lib/python3.10/dist-packages (from nltk) (2024.5.15)\n",
            "Requirement already satisfied: tqdm in /usr/local/lib/python3.10/dist-packages (from nltk) (4.66.4)\n"
          ]
        }
      ]
    },
    {
      "cell_type": "code",
      "source": [
        "import nltk\n",
        "\n",
        "nltk.download('punkt')"
      ],
      "metadata": {
        "colab": {
          "base_uri": "https://localhost:8080/"
        },
        "id": "7yquNs9EYJT0",
        "outputId": "0b971065-671c-4407-9a2c-feedc129812b"
      },
      "execution_count": 3,
      "outputs": [
        {
          "output_type": "stream",
          "name": "stderr",
          "text": [
            "[nltk_data] Downloading package punkt to /root/nltk_data...\n",
            "[nltk_data]   Unzipping tokenizers/punkt.zip.\n"
          ]
        },
        {
          "output_type": "execute_result",
          "data": {
            "text/plain": [
              "True"
            ]
          },
          "metadata": {},
          "execution_count": 3
        }
      ]
    },
    {
      "cell_type": "code",
      "source": [
        "stemmer = nltk.stem.PorterStemmer()\n",
        "\n",
        "wordlistFile = \"en2.txt\"\n",
        "wordlist = [set() for _ in range(5)]\n",
        "\n",
        "global ignorelist\n",
        "ignorelist = set()\n",
        "\n",
        "categories = [\"Completely inappropriate\", \"Violence/Crime\", \"Narcotics\", \"Potentially sensitive topics\", \"Potentially inappropriate\"]\n",
        "\n",
        "# Fill word lists with the stemmed words, based on the file (using sets for optimization purposes)\n",
        "with open(wordlistFile) as f:\n",
        "    for line in f:\n",
        "        line=line.split()\n",
        "        word=stemmer.stem(line[0])\n",
        "        wordlist[int(line[1])].add(word)\n",
        "\n",
        "def checktxt(txt:str):\n",
        "    wordcount = 0\n",
        "    res=[set() for _ in range(5)]\n",
        "\n",
        "    # Get all words from the text, using nltk\n",
        "    txt=txt.lower()\n",
        "    words = nltk.word_tokenize(txt)\n",
        "\n",
        "    # Check if any of the words correspond to the lists after stemming\n",
        "    for w in words:\n",
        "        if len(w)>1:\n",
        "            wordcount+=1\n",
        "            if w not in ignorelist:\n",
        "                w2=stemmer.stem(w)\n",
        "                for i in range(5):\n",
        "                    if w2 in wordlist[i]:\n",
        "                        res[i].add(w)\n",
        "    return wordcount, res\n",
        "\n",
        "def checkfile(filename):\n",
        "    wordcount = 0\n",
        "    res=[set() for _ in range(5)]\n",
        "\n",
        "    with open(filename, encoding=\"utf8\") as f:\n",
        "        for line in f:\n",
        "\n",
        "            # Get all words from the text line , using nltk\n",
        "            line=line.lower()\n",
        "            words = nltk.word_tokenize(line)\n",
        "\n",
        "            # Check if any of the words correspond to the lists after stemming\n",
        "            for w in words:\n",
        "                if len(w)>1:\n",
        "                    wordcount+=1\n",
        "                    if w not in ignorelist:\n",
        "                        w2=stemmer.stem(w)\n",
        "                        for i in range(5):\n",
        "                            if w2 in wordlist[i]:\n",
        "                                res[i].add(w)\n",
        "                                break\n",
        "    return wordcount, res\n",
        "\n",
        "def ignore(word:str):\n",
        "    # Add a normalized word to the ignore list\n",
        "    global ignorelist\n",
        "    word=word.strip().split()[0].lower()\n",
        "    ignorelist.add(word)\n",
        "\n",
        "# Analyze results received from checktxt or checkfile\n",
        "def evaluate(result, ignoreCategories=[False, False, False, False, False], printout=True, showWords=True):\n",
        "    wordcount=result[0]\n",
        "    words=result[1]\n",
        "    counts = [len(words[i]) for i in range(5)]\n",
        "\n",
        "    badcount=0\n",
        "\n",
        "    for i in range(5):\n",
        "        if not ignoreCategories[i]:\n",
        "            badcount+=counts[i]\n",
        "\n",
        "    if printout:\n",
        "        if badcount==0:\n",
        "            print(\"No inappropriate words found in the text.\\n\")\n",
        "        else:\n",
        "            print(f\"{badcount} out of {wordcount} meaningful words ({int(badcount/wordcount*10000)/100} %) are inappropriate.\\n\")\n",
        "\n",
        "            for i in range(5):\n",
        "                if not ignoreCategories[i]:\n",
        "                    print(f\"{counts[i]} out of {wordcount} meaningful words ({int(counts[i]/wordcount*10000)/100} %) are in the category \\\"{categories[i]}\\\"\")\n",
        "                    if showWords and counts[i]>0:\n",
        "                        print(\"Words:\", end=\" \")\n",
        "                        for w in words[i]:\n",
        "                            print(w, end=\" \")\n",
        "                        print()\n",
        "                    print()\n",
        "        print()\n",
        "\n",
        "    # Returns True if text is inappropriate (based on words from non-ignored categories), False if not inappropriate\n",
        "    if badcount==0: return False\n",
        "    return True\n"
      ],
      "metadata": {
        "id": "6yz6HypIYLZ0"
      },
      "execution_count": 4,
      "outputs": []
    },
    {
      "cell_type": "code",
      "source": [
        "# Basic CLI program\n",
        "def main():\n",
        "    global ignorelist\n",
        "    ignoreCategories=[False, False, False, False, False]\n",
        "    printout=True\n",
        "    printWords=False\n",
        "    greetingstxt=\"\"\"\n",
        "Please choose one of the following options, and enter the corresponding number:\n",
        "    0: Quit\n",
        "    1: Check raw text (single line)\n",
        "    2: Check a file\n",
        "    3: Change ignored categories\n",
        "    4: Edit ignored word list\n",
        "    5: Edit result verbosity settings\n",
        "\"\"\"\n",
        "\n",
        "    print(\"Welcome to inappropriate language checker!\")\n",
        "    cmd=\"1\"\n",
        "\n",
        "    while cmd!=\"0\":\n",
        "        print(greetingstxt)\n",
        "        cmd=input().strip()\n",
        "        if cmd==\"1\":\n",
        "            print(\"Enter the text:\")\n",
        "            inp=input()\n",
        "            print()\n",
        "            if evaluate(checktxt(inp), ignoreCategories=ignoreCategories, printout=printout, showWords=printWords):\n",
        "                print(\"Inappropriate\")\n",
        "            else:\n",
        "                print(\"Not inappropriate\")\n",
        "\n",
        "        elif cmd==\"2\":\n",
        "            print(\"Enter file name:\")\n",
        "            inp=input()\n",
        "            print()\n",
        "            try:\n",
        "                if evaluate(checkfile(inp), ignoreCategories=ignoreCategories, printout=printout, showWords=printWords):\n",
        "                    print(\"Inappropriate\")\n",
        "                else:\n",
        "                    print(\"Not inappropriate\")\n",
        "            except:\n",
        "                print(\"Could not open file \", inp)\n",
        "\n",
        "        elif cmd==\"3\":\n",
        "            print(\"\\nCurrent category statuses:\")\n",
        "            for i in range(5):\n",
        "                print(i, \": \", categories[i], end=\": \")\n",
        "                if ignoreCategories[i]:\n",
        "                    print(\"ignored\")\n",
        "                else:\n",
        "                    print(\"checked\")\n",
        "            print(\"\\nEnter a number (0-4) to change the status of that category: \", end=\"\")\n",
        "            try:\n",
        "                n=int(input())\n",
        "                print()\n",
        "                ignoreCategories[n] = not ignoreCategories[n]\n",
        "                print(f\"Category {n} changed!\")\n",
        "            except:\n",
        "                print(\"Incorrect input. Failed to change the category.\")\n",
        "\n",
        "        elif cmd==\"4\":\n",
        "            print(\"Enter a word to add to ignore list, or press Enter to reset the ignore list\")\n",
        "            inp=input()\n",
        "            if len(inp)>0:\n",
        "                ignore(inp)\n",
        "                print(\"Word added to ignore list!\")\n",
        "            else:\n",
        "                ignorelist=set()\n",
        "                print(\"Ignore list reset!\")\n",
        "\n",
        "        elif cmd==\"5\":\n",
        "            print(f\"Current settings:\\nBasic stats output on: {printout}\\nFlagged word output on: {printWords}\")\n",
        "            print(\"Enter 1 to switch basic stats output, 2 to switch flagged word output\")\n",
        "            inp=input().strip()\n",
        "            if inp==\"1\":\n",
        "                printout = not printout\n",
        "                print(\"Basic stats output status switched\")\n",
        "            elif inp==\"2\":\n",
        "                printWords = not printWords\n",
        "                print(\"Flagged words output status switched\")\n",
        "            else:\n",
        "                print(\"Unrecognised command\")\n",
        "\n",
        "        elif cmd!=\"0\":\n",
        "            print(\"Unknown command\\n\")\n"
      ],
      "metadata": {
        "id": "G_a1oKbfYQoV"
      },
      "execution_count": 5,
      "outputs": []
    },
    {
      "cell_type": "code",
      "source": [
        "main()"
      ],
      "metadata": {
        "colab": {
          "base_uri": "https://localhost:8080/",
          "height": 147
        },
        "id": "k1Tqa-xKYTk8",
        "outputId": "4b956a9b-ac94-480a-edb2-3523cf25f5af"
      },
      "execution_count": 2,
      "outputs": [
        {
          "output_type": "error",
          "ename": "NameError",
          "evalue": "name 'main' is not defined",
          "traceback": [
            "\u001b[0;31m---------------------------------------------------------------------------\u001b[0m",
            "\u001b[0;31mNameError\u001b[0m                                 Traceback (most recent call last)",
            "\u001b[0;32m<ipython-input-2-263240bbee7e>\u001b[0m in \u001b[0;36m<cell line: 1>\u001b[0;34m()\u001b[0m\n\u001b[0;32m----> 1\u001b[0;31m \u001b[0mmain\u001b[0m\u001b[0;34m(\u001b[0m\u001b[0;34m)\u001b[0m\u001b[0;34m\u001b[0m\u001b[0;34m\u001b[0m\u001b[0m\n\u001b[0m",
            "\u001b[0;31mNameError\u001b[0m: name 'main' is not defined"
          ]
        }
      ]
    }
  ]
}