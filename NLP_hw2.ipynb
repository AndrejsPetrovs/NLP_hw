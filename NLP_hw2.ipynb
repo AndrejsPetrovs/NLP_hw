{
  "nbformat": 4,
  "nbformat_minor": 0,
  "metadata": {
    "colab": {
      "provenance": []
    },
    "kernelspec": {
      "name": "python3",
      "display_name": "Python 3"
    },
    "language_info": {
      "name": "python"
    }
  },
  "cells": [
    {
      "cell_type": "markdown",
      "source": [
        "<a href=\"https://colab.research.google.com/github/LUMII-AILab/NLP_Course/blob/main/notebooks/NaiveBayes.ipynb\" target=\"_new\"><img src=\"https://colab.research.google.com/assets/colab-badge.svg\" alt=\"Open in Colab\"/></a>"
      ],
      "metadata": {
        "id": "fkWv6p4KNGlJ"
      }
    },
    {
      "cell_type": "code",
      "source": [
        "!wget https://github.com/AndrejsPetrovs/NLP_hw/blob/main/dev.tsv\n",
        "!wget https://github.com/AndrejsPetrovs/NLP_hw/blob/main/ekman_mapping.json\n",
        "!wget https://github.com/AndrejsPetrovs/NLP_hw/blob/main/emotions.txt\n",
        "!wget https://github.com/AndrejsPetrovs/NLP_hw/blob/main/stoplist.txt\n",
        "!wget https://github.com/AndrejsPetrovs/NLP_hw/blob/main/test.tsv\n",
        "!wget https://github.com/AndrejsPetrovs/NLP_hw/blob/main/train.tsv"
      ],
      "metadata": {
        "id": "32Ed8tE4e3i3",
        "colab": {
          "base_uri": "https://localhost:8080/"
        },
        "outputId": "572cacb4-94e5-4bb6-cb4a-23c1a650aaef"
      },
      "execution_count": 37,
      "outputs": [
        {
          "output_type": "stream",
          "name": "stdout",
          "text": [
            "--2024-06-10 00:09:10--  https://github.com/AndrejsPetrovs/NLP_hw/blob/main/dev.tsv\n",
            "Resolving github.com (github.com)... 140.82.114.3\n",
            "Connecting to github.com (github.com)|140.82.114.3|:443... connected.\n",
            "HTTP request sent, awaiting response... 200 OK\n",
            "Length: unspecified [text/html]\n",
            "Saving to: ‘dev.tsv.2’\n",
            "\n",
            "dev.tsv.2               [ <=>                ] 623.03K  --.-KB/s    in 0.1s    \n",
            "\n",
            "2024-06-10 00:09:10 (4.91 MB/s) - ‘dev.tsv.2’ saved [637979]\n",
            "\n",
            "--2024-06-10 00:09:10--  https://github.com/AndrejsPetrovs/NLP_hw/blob/main/ekman_mapping.json\n",
            "Resolving github.com (github.com)... 140.82.114.3\n",
            "Connecting to github.com (github.com)|140.82.114.3|:443... connected.\n",
            "HTTP request sent, awaiting response... 200 OK\n",
            "Length: unspecified [text/html]\n",
            "Saving to: ‘ekman_mapping.json.1’\n",
            "\n",
            "ekman_mapping.json.     [ <=>                ] 288.42K  --.-KB/s    in 0.1s    \n",
            "\n",
            "2024-06-10 00:09:11 (2.22 MB/s) - ‘ekman_mapping.json.1’ saved [295347]\n",
            "\n",
            "--2024-06-10 00:09:11--  https://github.com/AndrejsPetrovs/NLP_hw/blob/main/emotions.txt\n",
            "Resolving github.com (github.com)... 140.82.112.3\n",
            "Connecting to github.com (github.com)|140.82.112.3|:443... connected.\n",
            "HTTP request sent, awaiting response... 200 OK\n",
            "Length: unspecified [text/html]\n",
            "Saving to: ‘emotions.txt.1’\n",
            "\n",
            "emotions.txt.1          [ <=>                ] 289.29K  --.-KB/s    in 0.1s    \n",
            "\n",
            "2024-06-10 00:09:11 (2.32 MB/s) - ‘emotions.txt.1’ saved [296238]\n",
            "\n",
            "--2024-06-10 00:09:12--  https://github.com/AndrejsPetrovs/NLP_hw/blob/main/stoplist.txt\n",
            "Resolving github.com (github.com)... 140.82.112.3\n",
            "Connecting to github.com (github.com)|140.82.112.3|:443... connected.\n",
            "HTTP request sent, awaiting response... 200 OK\n",
            "Length: unspecified [text/html]\n",
            "Saving to: ‘stoplist.txt.2’\n",
            "\n",
            "stoplist.txt.2          [ <=>                ] 153.56K  --.-KB/s    in 0.07s   \n",
            "\n",
            "2024-06-10 00:09:12 (2.02 MB/s) - ‘stoplist.txt.2’ saved [157250]\n",
            "\n",
            "--2024-06-10 00:09:12--  https://github.com/AndrejsPetrovs/NLP_hw/blob/main/test.tsv\n",
            "Resolving github.com (github.com)... 140.82.112.4\n",
            "Connecting to github.com (github.com)|140.82.112.4|:443... connected.\n",
            "HTTP request sent, awaiting response... 200 OK\n",
            "Length: unspecified [text/html]\n",
            "Saving to: ‘test.tsv.1’\n",
            "\n",
            "test.tsv.1              [ <=>                ] 744.30K  4.19MB/s    in 0.2s    \n",
            "\n",
            "2024-06-10 00:09:13 (4.19 MB/s) - ‘test.tsv.1’ saved [762161]\n",
            "\n",
            "--2024-06-10 00:09:13--  https://github.com/AndrejsPetrovs/NLP_hw/blob/main/train.tsv\n",
            "Resolving github.com (github.com)... 140.82.112.3\n",
            "Connecting to github.com (github.com)|140.82.112.3|:443... connected.\n",
            "HTTP request sent, awaiting response... 200 OK\n",
            "Length: unspecified [text/html]\n",
            "Saving to: ‘train.tsv.1’\n",
            "\n",
            "train.tsv.1             [ <=>                ] 151.87K  --.-KB/s    in 0.1s    \n",
            "\n",
            "2024-06-10 00:09:13 (1.44 MB/s) - ‘train.tsv.1’ saved [155512]\n",
            "\n"
          ]
        }
      ]
    },
    {
      "cell_type": "code",
      "source": [
        "!pip install nltk\n",
        "!pip install scikit-learn\n",
        "!pip install seaborn"
      ],
      "metadata": {
        "id": "bvRF7jVfnb20"
      },
      "execution_count": 2,
      "outputs": []
    },
    {
      "cell_type": "code",
      "source": [
        "import nltk\n",
        "nltk.download('punkt')\n",
        "\n",
        "from sklearn.model_selection import KFold\n",
        "from sklearn.metrics import classification_report\n",
        "from sklearn.metrics import confusion_matrix\n",
        "\n",
        "import numpy\n",
        "\n",
        "import seaborn\n",
        "import matplotlib.pyplot as mplot"
      ],
      "metadata": {
        "id": "7ZyIOCZFF-dI",
        "colab": {
          "base_uri": "https://localhost:8080/"
        },
        "outputId": "8f1e6958-06aa-4842-e505-32281eaa9a17"
      },
      "execution_count": 3,
      "outputs": [
        {
          "output_type": "stream",
          "name": "stderr",
          "text": [
            "[nltk_data] Downloading package punkt to /root/nltk_data...\n",
            "[nltk_data]   Package punkt is already up-to-date!\n"
          ]
        }
      ]
    },
    {
      "cell_type": "code",
      "source": [
        "import re\n",
        "import os\n",
        "import sys\n",
        "import pickle\n",
        "import datetime\n",
        "import json\n",
        "import csv\n",
        "from nltk.tokenize import sent_tokenize, word_tokenize"
      ],
      "metadata": {
        "id": "JLi2qLKgjpHI"
      },
      "execution_count": 4,
      "outputs": []
    },
    {
      "cell_type": "code",
      "source": [
        "\n",
        "def emoteToNum(emotion):\n",
        "    with open(\"emotions.txt\") as f:\n",
        "        rown=0\n",
        "        for row in f:\n",
        "            if(row[-1]==\"\\n\"):\n",
        "                row=row[:-1]\n",
        "            if row==emotion:\n",
        "                return rown\n",
        "            rown+=1\n",
        "        return -1\n",
        "\n",
        "\n",
        "targets=[\"dev.tsv\", \"test.tsv\", \"train.tsv\"]\n",
        "targetsout=[\"dev2.tsv\", \"test2.tsv\", \"train2.tsv\"]\n",
        "\n",
        "\n",
        "mappingfile=\"ekman_mapping.json\"\n",
        "with open(mappingfile) as f:\n",
        "    mappingwords=json.load(f)\n",
        "mapping=[0]*28\n",
        "mapping[27]=6\n",
        "\n",
        "classes=[\"\"]*7\n",
        "classes[6]=\"neutral\"\n",
        "wnum=0\n",
        "for w in mappingwords:\n",
        "    classes[wnum]=w\n",
        "    for w2 in mappingwords[w]:\n",
        "        mapping[emoteToNum(w2)]=wnum\n",
        "    wnum+=1\n",
        "\n",
        "for i in range(len(classes)):\n",
        "  print(f\"{i}: {classes[i]}\")\n",
        "\n",
        "alltxt = \"\"\n",
        "\n",
        "for i in range(len(targets)):\n",
        "    with open(targets[i], encoding=\"utf8\") as fin:\n",
        "        with open(targetsout[i], \"w\", encoding=\"utf8\") as fout:\n",
        "            reader = csv.reader(fin, delimiter=\"\\t\")\n",
        "            writer = csv.writer(fout, delimiter=\"\\t\", lineterminator=\"\\n\")\n",
        "            for row in reader:\n",
        "                txt = row[0]\n",
        "                if i==1:\n",
        "                    alltxt+=(txt+\" \")\n",
        "                tags = row[1].split(\",\")\n",
        "                for j in range(len(tags)):\n",
        "                    tags[j]=mapping[int(tags[j])]\n",
        "                tags=list(set(tags))\n",
        "                for tag in tags:\n",
        "                    writer.writerow([str(tag), txt])\n",
        "\n",
        "allsents = sent_tokenize(alltxt)\n",
        "freqlist = {}\n",
        "for s in allsents:\n",
        "    s = re.sub(r'\\s+', ' ', s.strip())\n",
        "    w = word_tokenize(s)\n",
        "    for word in w:\n",
        "        word=word.lower()\n",
        "        if word not in freqlist:\n",
        "            freqlist[word]=0\n",
        "        freqlist[word]+=1\n",
        "\n",
        "\n",
        "freqlistfile = \"freqlist.tsv\"\n",
        "\n",
        "\n",
        "with open(freqlistfile, \"w\", encoding=\"utf8\") as f:\n",
        "    writer = csv.writer(f, delimiter=\"\\t\", lineterminator=\"\\n\")\n",
        "    for word in freqlist.keys():\n",
        "        writer.writerow([str(freqlist[word]), word])\n",
        "\n"
      ],
      "metadata": {
        "id": "4PwmCh1LAg0D",
        "colab": {
          "base_uri": "https://localhost:8080/"
        },
        "outputId": "b0dccac1-e735-4890-822e-794896e32bd8"
      },
      "execution_count": 35,
      "outputs": [
        {
          "output_type": "stream",
          "name": "stdout",
          "text": [
            "0: anger\n",
            "1: disgust\n",
            "2: fear\n",
            "3: joy\n",
            "4: sadness\n",
            "5: surprise\n",
            "6: neutral\n"
          ]
        }
      ]
    },
    {
      "cell_type": "markdown",
      "source": [
        "## Text preprocessing"
      ],
      "metadata": {
        "id": "AyQT5jzp8s0-"
      }
    },
    {
      "cell_type": "code",
      "source": [
        "def initialise(stop_txt, freq_tsv):\n",
        "\tglobal STOPLIST\n",
        "\tSTOPLIST = set()\n",
        "\n",
        "\twith open(stop_txt) as txt:\n",
        "\t\tfor word in txt:\n",
        "\t\t\tSTOPLIST.add(normalize_text(word.strip()))\n",
        "\n",
        "\tprint(\"[I] Word stoplist is read:\", len(STOPLIST))\n",
        "\n",
        "\tglobal WHITELIST\n",
        "\tWHITELIST = set()\n",
        "\n",
        "\twith open(freq_tsv) as tsv:\n",
        "\t\tfor entry in tsv:\n",
        "\t\t\tfreq, word = entry.strip().split(\"\\t\")\n",
        "\n",
        "\t\t\tif int(freq) < 5:\n",
        "\t\t\t\t# Ignore the long tail: most words occure less than N times\n",
        "\t\t\t\tcontinue\n",
        "\n",
        "\t\t\tWHITELIST.add(normalize_text(word))\n",
        "\n",
        "\tprint(\"[I] Word whitelist is read:\", len(WHITELIST))"
      ],
      "metadata": {
        "id": "oy2iikUGj49E"
      },
      "execution_count": 34,
      "outputs": []
    },
    {
      "cell_type": "code",
      "source": [
        "def normalize_text(text):\n",
        "\ttext = text.lower()\n",
        "\ttext = re.sub(r'\\b[A-Za-z0-9._%+-]+@[A-Za-z0-9.-]+\\.[A-Z|a-z]{2,}\\b', '', text) # e-mail addresses\n",
        "\ttext = re.sub(r'https?://[A-Za-z0-9./-]+|www\\.[A-Za-z0-9./-]+', '', text)\t\t\t\t# URLs\n",
        "\ttext = re.sub(r'\\d+', \"100\", text)\t\t\t\t\t\t\t\t\t\t\t\t\t\t\t\t\t\t\t\t\t    # numbers\n",
        "\n",
        "\treturn text.strip()\n",
        "\n",
        "\n",
        "def normalize_vector(vector):\n",
        "\twords = list(vector.keys())\n",
        "\n",
        "\tfor w in words:\n",
        "\t\tif w in STOPLIST or len(w) == 1 or w not in WHITELIST:\n",
        "\t\t\tvector.pop(w)\n",
        "\n",
        "\treturn vector\n",
        "\n",
        "\n",
        "def vectorize_text(text):\n",
        "\treturn normalize_vector({word: True for word in nltk.word_tokenize(normalize_text(text))})"
      ],
      "metadata": {
        "id": "ahWkVvFbkDp0"
      },
      "execution_count": 7,
      "outputs": []
    },
    {
      "cell_type": "code",
      "source": [
        "def read_data(file):\n",
        "\tdata_set = {}  # topic => samples\n",
        "\n",
        "\twith open(file) as data:\n",
        "\t\tfor entry in data:\n",
        "\t\t\ttopic, text = entry.strip().split(\"\\t\")\n",
        "\n",
        "\t\t\tsub_set = []\n",
        "\t\t\tif topic in data_set:\n",
        "\t\t\t\tsub_set = data_set[topic]\n",
        "\n",
        "\t\t\tsub_set.append((vectorize_text(text), topic))\n",
        "\t\t\tdata_set[topic] = sub_set\n",
        "\n",
        "\treturn data_set\n",
        "\n",
        "\n",
        "def join_data(data_set):\n",
        "\tunion = []\n",
        "\n",
        "\tfor cat in data_set:\n",
        "\t\tunion += data_set[cat]\n",
        "\n",
        "\treturn union"
      ],
      "metadata": {
        "id": "cP1KYQxYmD-C"
      },
      "execution_count": 8,
      "outputs": []
    },
    {
      "cell_type": "markdown",
      "source": [
        "## Experimentation & evaluation"
      ],
      "metadata": {
        "id": "2rPWMJS_9DhV"
      }
    },
    {
      "cell_type": "code",
      "source": [
        "# Separate training and test data passed\n",
        "def cross_validate2(train_data_set, test_data_set):\n",
        "    global LABELS\n",
        "    LABELS = []\n",
        "\n",
        "    # Initialize data containers\n",
        "    train_data = numpy.array([])\n",
        "    test_data = numpy.array([])\n",
        "\n",
        "    # Combine training data from all categories\n",
        "    for cat in train_data_set:\n",
        "        LABELS.append(cat)\n",
        "        if len(train_data) > 0:\n",
        "            train_data = numpy.append(train_data, train_data_set[cat], axis=0)\n",
        "        else:\n",
        "            train_data = train_data_set[cat]\n",
        "\n",
        "    # Combine test data from all categories\n",
        "    for cat in test_data_set:\n",
        "        if len(test_data) > 0:\n",
        "            test_data = numpy.append(test_data, test_data_set[cat], axis=0)\n",
        "        else:\n",
        "            test_data = test_data_set[cat]\n",
        "\n",
        "    # Naive Bayes classifier: training and evaluation\n",
        "    nb = nltk.NaiveBayesClassifier.train(train_data)\n",
        "    validation_accuracy = nltk.classify.accuracy(nb, test_data)\n",
        "\n",
        "    validations = [validation_accuracy]\n",
        "    gold_result = []\n",
        "    silver_result = []\n",
        "\n",
        "    for t in test_data:\n",
        "        gold_result.append(t[1])\n",
        "        silver_result.append(nb.classify(t[0]))\n",
        "\n",
        "    return (validations, gold_result, silver_result)"
      ],
      "metadata": {
        "id": "EIS6plaOLI4i"
      },
      "execution_count": 9,
      "outputs": []
    },
    {
      "cell_type": "code",
      "source": [
        "def run_validation2(train_data_path, test_data_path):\n",
        "\t\tprint(\"Cross-validation:\\n\")\n",
        "\n",
        "\t\tstart_time = datetime.datetime.now().replace(microsecond=0)\n",
        "\n",
        "\t\t# Run k-fold cross-validation\n",
        "\t\tvalidations, gold, silver = cross_validate2(read_data(train_data_path), read_data(test_data_path))\n",
        "\n",
        "\t\t# Print the average accuracy: for each cross-validation step, and overall\n",
        "\t\tfor step in validations:\n",
        "\t\t\t\tprint(\"{0:.2f}  \".format(step), end='')\n",
        "\t\tprint(\"{0:.0%}\".format(numpy.mean(validations)))\n",
        "\n",
        "\t\tend_time = datetime.datetime.now().replace(microsecond=0)\n",
        "\t\tprint(\"\\nTotal validation time:\", end_time - start_time, \"\\n\")\n",
        "\n",
        "\t\t# Print an evaluation report\n",
        "\t\tprint(classification_report(gold, silver))\n",
        "\n",
        "\t\t# Print a fancy confusion matrix\n",
        "\t\tmatrix = confusion_matrix(gold, silver)\n",
        "\t\tseaborn.heatmap(matrix, xticklabels=LABELS, yticklabels=LABELS)\n",
        "\t\tmplot.xticks(rotation=90)\n",
        "\t\tmplot.show()\n",
        "\t\t# cf. print(nltk.ConfusionMatrix(gold_total, silver_total))"
      ],
      "metadata": {
        "id": "2cSKalTBNaOq"
      },
      "execution_count": 10,
      "outputs": []
    },
    {
      "cell_type": "markdown",
      "source": [
        "## Training for production"
      ],
      "metadata": {
        "id": "9hMPAJtq9MWH"
      }
    },
    {
      "cell_type": "code",
      "source": [
        "def run_training(data_path, verbose):\n",
        "\t\tprint(\"[I] Training an NB classifier...\")\n",
        "\t\tstart_time = datetime.datetime.now().replace(microsecond=0)\n",
        "\n",
        "\t\t# TRAINING\n",
        "\t\t# The final (production) model is trained by using all available data (train+test)\n",
        "\t\tnb = nltk.NaiveBayesClassifier.train(join_data(read_data(data_path)))\n",
        "\n",
        "\t\tend_time = datetime.datetime.now().replace(microsecond=0)\n",
        "\t\tprint(\"[I] Training time:\", end_time - start_time)\n",
        "\n",
        "\t\tif verbose:\n",
        "\t\t\t\tnb.show_most_informative_features(n=10) # Try with n=100\n",
        "\n",
        "\t\t# Save the model for later use\n",
        "\t\twith open(\"nb_classifier.pickle\", \"wb\") as dmp:\n",
        "\t\t\t\tpickle.dump(nb, dmp)\n",
        "\t\t\t\tprint(\"[I] NB classifier stored in a file\")"
      ],
      "metadata": {
        "id": "mb76hkhclwFC"
      },
      "execution_count": 12,
      "outputs": []
    },
    {
      "cell_type": "markdown",
      "source": [
        "## The inference part"
      ],
      "metadata": {
        "id": "0bOz45sF9oyM"
      }
    },
    {
      "cell_type": "code",
      "source": [
        "def run_inference():\n",
        "\t\t# Load the pre-trained model\n",
        "\t\twith open(\"nb_classifier.pickle\", \"rb\") as dmp:\n",
        "\t\t\t\tnb = pickle.load(dmp)\n",
        "\t\t\t\tprint(\"[I] NB classifier loaded from a file\")\n",
        "\n",
        "\t\twhile True:\n",
        "\t\t\t\ttext = input(\"\\nEnter a text to classify: \")\n",
        "\t\t\t\tif len(text) == 0: break\n",
        "\n",
        "\t\t\t\t# Extract text features for classification\n",
        "\t\t\t\ttext_feat = vectorize_text(text)\n",
        "\t\t\t\tprint(\"\\nFeatures:\", text_feat.keys(), \"\\n\")\n",
        "\n",
        "\t\t\t\t# INFERENCE\n",
        "\t\t\t\t# Calculate a probability distribution over the classes\n",
        "\t\t\t\tprob_dist = nb.prob_classify(text_feat)\n",
        "\n",
        "\t\t\t\t# Return the probability distribution\n",
        "\t\t\t\tfor label in prob_dist.samples():\n",
        "\t\t\t\t\t\tprint(\"{0}: {1:.3f}\".format(classes[int(label)], prob_dist.prob(label)))\n",
        "\n",
        "\t\t\t\t# Return the most probable class\n",
        "\t\t\t\tprint(\"\\nPrediction:\", classes[int(prob_dist.max())])"
      ],
      "metadata": {
        "id": "Kc3BPltRlQqB"
      },
      "execution_count": 13,
      "outputs": []
    },
    {
      "cell_type": "markdown",
      "source": [
        "## Execution"
      ],
      "metadata": {
        "id": "Dht3RHRG-isE"
      }
    },
    {
      "cell_type": "code",
      "source": [
        "# Initialise the stopword and word frequency lists\n",
        "initialise('stoplist.txt', 'freqlist.tsv')"
      ],
      "metadata": {
        "id": "4SCQbnBGk5_W",
        "colab": {
          "base_uri": "https://localhost:8080/"
        },
        "outputId": "c6acddae-9cce-4bfb-8329-5bfdbd9d2556"
      },
      "execution_count": 32,
      "outputs": [
        {
          "output_type": "stream",
          "name": "stdout",
          "text": [
            "[I] Word stoplist is read: 189\n",
            "[I] Word whitelist is read: 1766\n"
          ]
        }
      ]
    },
    {
      "cell_type": "code",
      "source": [
        "run_validation2(\"train2.tsv\", \"test2.tsv\")"
      ],
      "metadata": {
        "colab": {
          "base_uri": "https://localhost:8080/",
          "height": 772
        },
        "id": "pEhlLikDRjTh",
        "outputId": "ae3f008f-ac0b-4fb7-8a7d-adee3ed81087"
      },
      "execution_count": 33,
      "outputs": [
        {
          "output_type": "stream",
          "name": "stdout",
          "text": [
            "Cross-validation:\n",
            "\n",
            "0.51  51%\n",
            "\n",
            "Total validation time: 0:00:14 \n",
            "\n",
            "              precision    recall  f1-score   support\n",
            "\n",
            "           0       0.44      0.36      0.40       726\n",
            "           1       0.30      0.41      0.35       123\n",
            "           2       0.38      0.51      0.43        98\n",
            "           3       0.56      0.80      0.66      2104\n",
            "           4       0.41      0.45      0.43       379\n",
            "           5       0.39      0.24      0.30       677\n",
            "           6       0.56      0.36      0.44      1787\n",
            "\n",
            "    accuracy                           0.51      5894\n",
            "   macro avg       0.43      0.45      0.43      5894\n",
            "weighted avg       0.51      0.51      0.49      5894\n",
            "\n"
          ]
        },
        {
          "output_type": "display_data",
          "data": {
            "text/plain": [
              "<Figure size 640x480 with 2 Axes>"
            ],
            "image/png": "[encoded data removed]"
          },
          "metadata": {}
        }
      ]
    },
    {
      "cell_type": "code",
      "source": [
        "# Train and save the final model\n",
        "run_training(\"train2.tsv\", True) # True=verbose"
      ],
      "metadata": {
        "id": "9JIDVtoRowU3",
        "colab": {
          "base_uri": "https://localhost:8080/"
        },
        "outputId": "7eee5c6f-1314-438d-89ef-d3495d0f0e82"
      },
      "execution_count": 35,
      "outputs": [
        {
          "output_type": "stream",
          "name": "stdout",
          "text": [
            "[I] Training an NB classifier...\n",
            "[I] Training time: 0:00:12\n",
            "Most Informative Features\n",
            "                   scary = True                2 : 0      =    237.9 : 1.0\n",
            "              disgusting = True                1 : 3      =    225.1 : 1.0\n",
            "                   awful = True                1 : 6      =    206.8 : 1.0\n",
            "                  scared = True                2 : 6      =    170.8 : 1.0\n",
            "                 worried = True                2 : 6      =    140.5 : 1.0\n",
            "                  afraid = True                2 : 0      =    117.3 : 1.0\n",
            "                terrible = True                2 : 6      =     86.2 : 1.0\n",
            "                   sorry = True                4 : 6      =     79.2 : 1.0\n",
            "                realized = True                5 : 6      =     75.1 : 1.0\n",
            "                 awesome = True                3 : 6      =     70.1 : 1.0\n",
            "[I] NB classifier stored in a file\n"
          ]
        }
      ]
    },
    {
      "cell_type": "code",
      "source": [
        "# Run the pre-trained model\n",
        "run_inference()"
      ],
      "metadata": {
        "id": "31sq0_Gsk9Bf",
        "outputId": "88fa9225-a957-4e07-d27f-9ffd1668899f",
        "colab": {
          "base_uri": "https://localhost:8080/",
          "height": 1000
        }
      },
      "execution_count": 39,
      "outputs": [
        {
          "output_type": "stream",
          "name": "stdout",
          "text": [
            "[I] NB classifier loaded from a file\n",
            "\n",
            "Enter a text to classify: 100%! Congrats on your job too!\n",
            "\n",
            "Features: dict_keys(['100', 'congrats', 'job']) \n",
            "\n",
            "neutral: 0.025\n",
            "anger: 0.016\n",
            "fear: 0.001\n",
            "surprise: 0.036\n",
            "joy: 0.894\n",
            "sadness: 0.027\n",
            "disgust: 0.000\n",
            "\n",
            "Prediction: joy\n",
            "\n",
            "Enter a text to classify: Again, overall, not just for me. \n",
            "\n",
            "Features: dict_keys([]) \n",
            "\n",
            "neutral: 0.300\n",
            "anger: 0.118\n",
            "fear: 0.015\n",
            "surprise: 0.113\n",
            "joy: 0.368\n",
            "sadness: 0.069\n",
            "disgust: 0.017\n",
            "\n",
            "Prediction: joy\n",
            "\n",
            "Enter a text to classify: I’m so sorry 🤪\n",
            "\n",
            "Features: dict_keys(['sorry']) \n",
            "\n",
            "neutral: 0.035\n",
            "anger: 0.044\n",
            "fear: 0.012\n",
            "surprise: 0.070\n",
            "joy: 0.197\n",
            "sadness: 0.629\n",
            "disgust: 0.014\n",
            "\n",
            "Prediction: sadness\n"
          ]
        },
        {
          "output_type": "error",
          "ename": "KeyboardInterrupt",
          "evalue": "Interrupted by user",
          "traceback": [
            "\u001b[0;31m---------------------------------------------------------------------------\u001b[0m",
            "\u001b[0;31mKeyboardInterrupt\u001b[0m                         Traceback (most recent call last)",
            "\u001b[0;32m<ipython-input-39-c9cc186f611b>\u001b[0m in \u001b[0;36m<cell line: 2>\u001b[0;34m()\u001b[0m\n\u001b[1;32m      1\u001b[0m \u001b[0;31m# Run the pre-trained model\u001b[0m\u001b[0;34m\u001b[0m\u001b[0;34m\u001b[0m\u001b[0m\n\u001b[0;32m----> 2\u001b[0;31m \u001b[0mrun_inference\u001b[0m\u001b[0;34m(\u001b[0m\u001b[0;34m)\u001b[0m\u001b[0;34m\u001b[0m\u001b[0;34m\u001b[0m\u001b[0m\n\u001b[0m",
            "\u001b[0;32m<ipython-input-38-2a74b23e3ae8>\u001b[0m in \u001b[0;36mrun_inference\u001b[0;34m()\u001b[0m\n\u001b[1;32m      6\u001b[0m \u001b[0;34m\u001b[0m\u001b[0m\n\u001b[1;32m      7\u001b[0m                 \u001b[0;32mwhile\u001b[0m \u001b[0;32mTrue\u001b[0m\u001b[0;34m:\u001b[0m\u001b[0;34m\u001b[0m\u001b[0;34m\u001b[0m\u001b[0m\n\u001b[0;32m----> 8\u001b[0;31m                                 \u001b[0mtext\u001b[0m \u001b[0;34m=\u001b[0m \u001b[0minput\u001b[0m\u001b[0;34m(\u001b[0m\u001b[0;34m\"\\nEnter a text to classify: \"\u001b[0m\u001b[0;34m)\u001b[0m\u001b[0;34m\u001b[0m\u001b[0;34m\u001b[0m\u001b[0m\n\u001b[0m\u001b[1;32m      9\u001b[0m                                 \u001b[0;32mif\u001b[0m \u001b[0mlen\u001b[0m\u001b[0;34m(\u001b[0m\u001b[0mtext\u001b[0m\u001b[0;34m)\u001b[0m \u001b[0;34m==\u001b[0m \u001b[0;36m0\u001b[0m\u001b[0;34m:\u001b[0m \u001b[0;32mbreak\u001b[0m\u001b[0;34m\u001b[0m\u001b[0;34m\u001b[0m\u001b[0m\n\u001b[1;32m     10\u001b[0m \u001b[0;34m\u001b[0m\u001b[0m\n",
            "\u001b[0;32m/usr/local/lib/python3.10/dist-packages/ipykernel/kernelbase.py\u001b[0m in \u001b[0;36mraw_input\u001b[0;34m(self, prompt)\u001b[0m\n\u001b[1;32m    849\u001b[0m                 \u001b[0;34m\"raw_input was called, but this frontend does not support input requests.\"\u001b[0m\u001b[0;34m\u001b[0m\u001b[0;34m\u001b[0m\u001b[0m\n\u001b[1;32m    850\u001b[0m             )\n\u001b[0;32m--> 851\u001b[0;31m         return self._input_request(str(prompt),\n\u001b[0m\u001b[1;32m    852\u001b[0m             \u001b[0mself\u001b[0m\u001b[0;34m.\u001b[0m\u001b[0m_parent_ident\u001b[0m\u001b[0;34m,\u001b[0m\u001b[0;34m\u001b[0m\u001b[0;34m\u001b[0m\u001b[0m\n\u001b[1;32m    853\u001b[0m             \u001b[0mself\u001b[0m\u001b[0;34m.\u001b[0m\u001b[0m_parent_header\u001b[0m\u001b[0;34m,\u001b[0m\u001b[0;34m\u001b[0m\u001b[0;34m\u001b[0m\u001b[0m\n",
            "\u001b[0;32m/usr/local/lib/python3.10/dist-packages/ipykernel/kernelbase.py\u001b[0m in \u001b[0;36m_input_request\u001b[0;34m(self, prompt, ident, parent, password)\u001b[0m\n\u001b[1;32m    893\u001b[0m             \u001b[0;32mexcept\u001b[0m \u001b[0mKeyboardInterrupt\u001b[0m\u001b[0;34m:\u001b[0m\u001b[0;34m\u001b[0m\u001b[0;34m\u001b[0m\u001b[0m\n\u001b[1;32m    894\u001b[0m                 \u001b[0;31m# re-raise KeyboardInterrupt, to truncate traceback\u001b[0m\u001b[0;34m\u001b[0m\u001b[0;34m\u001b[0m\u001b[0m\n\u001b[0;32m--> 895\u001b[0;31m                 \u001b[0;32mraise\u001b[0m \u001b[0mKeyboardInterrupt\u001b[0m\u001b[0;34m(\u001b[0m\u001b[0;34m\"Interrupted by user\"\u001b[0m\u001b[0;34m)\u001b[0m \u001b[0;32mfrom\u001b[0m \u001b[0;32mNone\u001b[0m\u001b[0;34m\u001b[0m\u001b[0;34m\u001b[0m\u001b[0m\n\u001b[0m\u001b[1;32m    896\u001b[0m             \u001b[0;32mexcept\u001b[0m \u001b[0mException\u001b[0m \u001b[0;32mas\u001b[0m \u001b[0me\u001b[0m\u001b[0;34m:\u001b[0m\u001b[0;34m\u001b[0m\u001b[0;34m\u001b[0m\u001b[0m\n\u001b[1;32m    897\u001b[0m                 \u001b[0mself\u001b[0m\u001b[0;34m.\u001b[0m\u001b[0mlog\u001b[0m\u001b[0;34m.\u001b[0m\u001b[0mwarning\u001b[0m\u001b[0;34m(\u001b[0m\u001b[0;34m\"Invalid Message:\"\u001b[0m\u001b[0;34m,\u001b[0m \u001b[0mexc_info\u001b[0m\u001b[0;34m=\u001b[0m\u001b[0;32mTrue\u001b[0m\u001b[0;34m)\u001b[0m\u001b[0;34m\u001b[0m\u001b[0;34m\u001b[0m\u001b[0m\n",
            "\u001b[0;31mKeyboardInterrupt\u001b[0m: Interrupted by user"
          ]
        }
      ]
    }
  ]
}